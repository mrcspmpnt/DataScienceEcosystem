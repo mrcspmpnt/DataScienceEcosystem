{
 "cells": [
  {
   "cell_type": "markdown",
   "id": "4d2c5ab3-eb2f-45f2-b8bd-12aebc016f11",
   "metadata": {},
   "source": [
    "# Data Science Tools and Ecosystem"
   ]
  },
  {
   "cell_type": "markdown",
   "id": "12e47d22-348c-48fa-be3e-ca8f78d3e552",
   "metadata": {},
   "source": [
    "In this notebook, Data Science Tools and Ecosystem are summarized."
   ]
  },
  {
   "cell_type": "markdown",
   "id": "a7584df0-13c0-4590-8e76-929970e9856c",
   "metadata": {},
   "source": [
    "__Objectives:__\n",
    "- List popular languages for Data Science\n",
    "- List commonly used libraries used by Data Scientists\n",
    "- List open source tools for Data Science\n",
    "- Show examples of arithmetic expressions in Python"
   ]
  },
  {
   "cell_type": "markdown",
   "id": "913a82d8-3737-41f1-8fae-0f92e46febcc",
   "metadata": {},
   "source": [
    "Some of the popular languages that Data Scientists use are:\n",
    "- Python\n",
    "- R\n",
    "- Julia"
   ]
  },
  {
   "cell_type": "markdown",
   "id": "1029505b-dd48-4510-ab5d-0edafdd23852",
   "metadata": {},
   "source": [
    "Some of the commonly used libraries used by Data Scientists include:\n",
    "1. ggplot2\n",
    "2. NumPy\n",
    "3. Pandas\n",
    "4. Matplotlib"
   ]
  },
  {
   "cell_type": "markdown",
   "id": "f67c5509-123b-488b-be0a-25f9de04b5f4",
   "metadata": {},
   "source": [
    "|Data Science Tools|\n",
    "|-----|\n",
    "|Apache Spark|\n",
    "|Hadoop|\n",
    "|RStudio|"
   ]
  },
  {
   "cell_type": "markdown",
   "id": "24d02aff-b8f7-4b9b-a2bf-b114338b4f01",
   "metadata": {},
   "source": [
    "### Below are a few examples of evaluating arithmetic expressions in Python"
   ]
  },
  {
   "cell_type": "code",
   "execution_count": 1,
   "id": "63001b8c-da89-49c7-b9ab-cac354b7bd3e",
   "metadata": {
    "tags": []
   },
   "outputs": [
    {
     "data": {
      "text/plain": [
       "17"
      ]
     },
     "execution_count": 1,
     "metadata": {},
     "output_type": "execute_result"
    }
   ],
   "source": [
    "# This a simple arithmetic expression to mutiply then add integers\n",
    "(3*4)+5"
   ]
  },
  {
   "cell_type": "code",
   "execution_count": 2,
   "id": "a89d372c-889c-4fbf-a463-bbb0970516f0",
   "metadata": {
    "tags": []
   },
   "outputs": [
    {
     "data": {
      "text/plain": [
       "3.3333333333333335"
      ]
     },
     "execution_count": 2,
     "metadata": {},
     "output_type": "execute_result"
    }
   ],
   "source": [
    "# This will convert 200 minutes to hours by diving by 60\n",
    "200/60"
   ]
  },
  {
   "cell_type": "code",
   "execution_count": null,
   "id": "edb377dd-10c9-41d7-b65a-2fcea11336da",
   "metadata": {},
   "outputs": [],
   "source": []
  }
 ],
 "metadata": {
  "kernelspec": {
   "display_name": "Python",
   "language": "python",
   "name": "conda-env-python-py"
  },
  "language_info": {
   "codemirror_mode": {
    "name": "ipython",
    "version": 3
   },
   "file_extension": ".py",
   "mimetype": "text/x-python",
   "name": "python",
   "nbconvert_exporter": "python",
   "pygments_lexer": "ipython3",
   "version": "3.7.12"
  }
 },
 "nbformat": 4,
 "nbformat_minor": 5
}
